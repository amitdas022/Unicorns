{
 "cells": [
  {
   "cell_type": "markdown",
   "metadata": {},
   "source": [
    "### **Organize publicly available data about startups turned unicorns.**\n",
    "#### In venture capital, a unicorn company is a privately-held startup company that is valued at more than $1 billion. <br> It’s a term that’s become common in the investing community."
   ]
  },
  {
   "cell_type": "markdown",
   "metadata": {},
   "source": [
    "To load and visualize the data, we can use the Pandas and Bokeh library"
   ]
  },
  {
   "cell_type": "code",
   "execution_count": 69,
   "metadata": {},
   "outputs": [
    {
     "name": "stdout",
     "output_type": "stream",
     "text": [
      "Requirement already satisfied: pandas in d:\\personal\\personalusesoftware\\python\\lib\\site-packages (1.3.3)\n",
      "Requirement already satisfied: numpy>=1.17.3 in d:\\personal\\personalusesoftware\\python\\lib\\site-packages (from pandas) (1.21.2)\n",
      "Requirement already satisfied: pytz>=2017.3 in d:\\personal\\personalusesoftware\\python\\lib\\site-packages (from pandas) (2021.3)\n",
      "Requirement already satisfied: python-dateutil>=2.7.3 in d:\\personal\\personalusesoftware\\python\\lib\\site-packages (from pandas) (2.8.2)\n",
      "Requirement already satisfied: six>=1.5 in d:\\personal\\personalusesoftware\\python\\lib\\site-packages (from python-dateutil>=2.7.3->pandas) (1.16.0)\n",
      "Note: you may need to restart the kernel to use updated packages.\n"
     ]
    },
    {
     "name": "stderr",
     "output_type": "stream",
     "text": [
      "WARNING: You are using pip version 21.1.3; however, version 22.1.2 is available.\n",
      "You should consider upgrading via the 'D:\\Personal\\PersonalUseSoftware\\Python\\python.exe -m pip install --upgrade pip' command.\n"
     ]
    },
    {
     "name": "stdout",
     "output_type": "stream",
     "text": [
      "Requirement already satisfied: numpy in d:\\personal\\personalusesoftware\\python\\lib\\site-packages (1.21.2)\n",
      "Note: you may need to restart the kernel to use updated packages.\n"
     ]
    },
    {
     "name": "stderr",
     "output_type": "stream",
     "text": [
      "WARNING: You are using pip version 21.1.3; however, version 22.1.2 is available.\n",
      "You should consider upgrading via the 'D:\\Personal\\PersonalUseSoftware\\Python\\python.exe -m pip install --upgrade pip' command.\n"
     ]
    },
    {
     "name": "stdout",
     "output_type": "stream",
     "text": [
      "Requirement already satisfied: matplotlib in d:\\personal\\personalusesoftware\\python\\lib\\site-packages (3.5.2)\n",
      "Requirement already satisfied: python-dateutil>=2.7 in d:\\personal\\personalusesoftware\\python\\lib\\site-packages (from matplotlib) (2.8.2)\n",
      "Requirement already satisfied: packaging>=20.0 in c:\\users\\amitdas\\appdata\\roaming\\python\\python39\\site-packages (from matplotlib) (21.3)\n",
      "Requirement already satisfied: kiwisolver>=1.0.1 in d:\\personal\\personalusesoftware\\python\\lib\\site-packages (from matplotlib) (1.4.2)\n",
      "Requirement already satisfied: fonttools>=4.22.0 in d:\\personal\\personalusesoftware\\python\\lib\\site-packages (from matplotlib) (4.33.3)\n",
      "Requirement already satisfied: pyparsing>=2.2.1 in c:\\users\\amitdas\\appdata\\roaming\\python\\python39\\site-packages (from matplotlib) (3.0.8)\n",
      "Requirement already satisfied: numpy>=1.17 in d:\\personal\\personalusesoftware\\python\\lib\\site-packages (from matplotlib) (1.21.2)\n",
      "Requirement already satisfied: pillow>=6.2.0 in d:\\personal\\personalusesoftware\\python\\lib\\site-packages (from matplotlib) (9.1.1)\n",
      "Requirement already satisfied: cycler>=0.10 in d:\\personal\\personalusesoftware\\python\\lib\\site-packages (from matplotlib) (0.11.0)\n",
      "Requirement already satisfied: six>=1.5 in d:\\personal\\personalusesoftware\\python\\lib\\site-packages (from python-dateutil>=2.7->matplotlib) (1.16.0)\n",
      "Note: you may need to restart the kernel to use updated packages.\n"
     ]
    },
    {
     "name": "stderr",
     "output_type": "stream",
     "text": [
      "WARNING: You are using pip version 21.1.3; however, version 22.1.2 is available.\n",
      "You should consider upgrading via the 'D:\\Personal\\PersonalUseSoftware\\Python\\python.exe -m pip install --upgrade pip' command.\n"
     ]
    },
    {
     "name": "stdout",
     "output_type": "stream",
     "text": [
      "Collecting seaborn\n",
      "  Downloading seaborn-0.11.2-py3-none-any.whl (292 kB)\n",
      "Requirement already satisfied: numpy>=1.15 in d:\\personal\\personalusesoftware\\python\\lib\\site-packages (from seaborn) (1.21.2)\n",
      "Requirement already satisfied: pandas>=0.23 in d:\\personal\\personalusesoftware\\python\\lib\\site-packages (from seaborn) (1.3.3)\n",
      "Collecting scipy>=1.0\n",
      "  Downloading scipy-1.8.1-cp39-cp39-win_amd64.whl (36.9 MB)\n",
      "Requirement already satisfied: matplotlib>=2.2 in d:\\personal\\personalusesoftware\\python\\lib\\site-packages (from seaborn) (3.5.2)\n",
      "Requirement already satisfied: packaging>=20.0 in c:\\users\\amitdas\\appdata\\roaming\\python\\python39\\site-packages (from matplotlib>=2.2->seaborn) (21.3)\n",
      "Requirement already satisfied: python-dateutil>=2.7 in d:\\personal\\personalusesoftware\\python\\lib\\site-packages (from matplotlib>=2.2->seaborn) (2.8.2)\n",
      "Requirement already satisfied: cycler>=0.10 in d:\\personal\\personalusesoftware\\python\\lib\\site-packages (from matplotlib>=2.2->seaborn) (0.11.0)\n",
      "Requirement already satisfied: fonttools>=4.22.0 in d:\\personal\\personalusesoftware\\python\\lib\\site-packages (from matplotlib>=2.2->seaborn) (4.33.3)\n",
      "Requirement already satisfied: kiwisolver>=1.0.1 in d:\\personal\\personalusesoftware\\python\\lib\\site-packages (from matplotlib>=2.2->seaborn) (1.4.2)\n",
      "Requirement already satisfied: pillow>=6.2.0 in d:\\personal\\personalusesoftware\\python\\lib\\site-packages (from matplotlib>=2.2->seaborn) (9.1.1)\n",
      "Requirement already satisfied: pyparsing>=2.2.1 in c:\\users\\amitdas\\appdata\\roaming\\python\\python39\\site-packages (from matplotlib>=2.2->seaborn) (3.0.8)\n",
      "Requirement already satisfied: pytz>=2017.3 in d:\\personal\\personalusesoftware\\python\\lib\\site-packages (from pandas>=0.23->seaborn) (2021.3)\n",
      "Requirement already satisfied: six>=1.5 in d:\\personal\\personalusesoftware\\python\\lib\\site-packages (from python-dateutil>=2.7->matplotlib>=2.2->seaborn) (1.16.0)\n",
      "Installing collected packages: scipy, seaborn\n",
      "Successfully installed scipy-1.8.1 seaborn-0.11.2\n",
      "Note: you may need to restart the kernel to use updated packages.\n"
     ]
    },
    {
     "name": "stderr",
     "output_type": "stream",
     "text": [
      "WARNING: You are using pip version 21.1.3; however, version 22.1.2 is available.\n",
      "You should consider upgrading via the 'D:\\Personal\\PersonalUseSoftware\\Python\\python.exe -m pip install --upgrade pip' command.\n"
     ]
    }
   ],
   "source": [
    "%pip install pandas\n",
    "%pip install numpy\n",
    "%pip install matplotlib\n",
    "%pip install seaborn"
   ]
  },
  {
   "cell_type": "code",
   "execution_count": 138,
   "metadata": {},
   "outputs": [],
   "source": [
    "import pandas as pd\n",
    "import numpy as np\n",
    "import matplotlib.pyplot as plt\n",
    "import seaborn as sns\n",
    "from datetime import datetime, date"
   ]
  },
  {
   "cell_type": "markdown",
   "metadata": {},
   "source": [
    "Read the cleaned dataset present in '../dataset/' directory"
   ]
  },
  {
   "cell_type": "code",
   "execution_count": 119,
   "metadata": {},
   "outputs": [],
   "source": [
    "# Read the dataset using read_csv function\n",
    "df_all = pd.read_csv('../dataset/unicorn.csv')"
   ]
  },
  {
   "cell_type": "markdown",
   "metadata": {},
   "source": [
    "Transform and organize the data, to make them ready for visualization"
   ]
  },
  {
   "cell_type": "code",
   "execution_count": 120,
   "metadata": {},
   "outputs": [
    {
     "name": "stderr",
     "output_type": "stream",
     "text": [
      "C:\\Users\\Public\\Documents\\Wondershare\\CreatorTemp\\ipykernel_49568\\1686406063.py:2: FutureWarning: The default value of regex will change from True to False in a future version. In addition, single character regular expressions will *not* be treated as literal strings when regex=True.\n",
      "  df_all['Valuation ($B)'] = df_all['Valuation ($B)'].str.replace('$','')\n"
     ]
    },
    {
     "data": {
      "text/html": [
       "<div>\n",
       "<style scoped>\n",
       "    .dataframe tbody tr th:only-of-type {\n",
       "        vertical-align: middle;\n",
       "    }\n",
       "\n",
       "    .dataframe tbody tr th {\n",
       "        vertical-align: top;\n",
       "    }\n",
       "\n",
       "    .dataframe thead th {\n",
       "        text-align: right;\n",
       "    }\n",
       "</style>\n",
       "<table border=\"1\" class=\"dataframe\">\n",
       "  <thead>\n",
       "    <tr style=\"text-align: right;\">\n",
       "      <th></th>\n",
       "      <th>Company</th>\n",
       "      <th>Valuation ($B)</th>\n",
       "      <th>Date Joined</th>\n",
       "      <th>Country</th>\n",
       "      <th>City</th>\n",
       "      <th>Industry</th>\n",
       "      <th>Select Investors</th>\n",
       "    </tr>\n",
       "  </thead>\n",
       "  <tbody>\n",
       "    <tr>\n",
       "      <th>0</th>\n",
       "      <td>Bytedance</td>\n",
       "      <td>140.0</td>\n",
       "      <td>2017-04-07</td>\n",
       "      <td>China</td>\n",
       "      <td>Beijing</td>\n",
       "      <td>Artificial intelligence</td>\n",
       "      <td>Sequoia Capital China, SIG Asia Investments, S...</td>\n",
       "    </tr>\n",
       "    <tr>\n",
       "      <th>1</th>\n",
       "      <td>SpaceX</td>\n",
       "      <td>125.0</td>\n",
       "      <td>2012-12-01</td>\n",
       "      <td>United States</td>\n",
       "      <td>Hawthorne</td>\n",
       "      <td>Other</td>\n",
       "      <td>Founders Fund, Draper Fisher Jurvetson, Rothen...</td>\n",
       "    </tr>\n",
       "    <tr>\n",
       "      <th>2</th>\n",
       "      <td>SHEIN</td>\n",
       "      <td>100.0</td>\n",
       "      <td>2018-07-03</td>\n",
       "      <td>China</td>\n",
       "      <td>Shenzhen</td>\n",
       "      <td>E-commerce &amp; direct-to-consumer</td>\n",
       "      <td>Tiger Global Management, Sequoia Capital China...</td>\n",
       "    </tr>\n",
       "    <tr>\n",
       "      <th>3</th>\n",
       "      <td>Stripe</td>\n",
       "      <td>95.0</td>\n",
       "      <td>2014-01-23</td>\n",
       "      <td>United States</td>\n",
       "      <td>San Francisco</td>\n",
       "      <td>Fintech</td>\n",
       "      <td>Khosla Ventures, LowercaseCapital, capitalG</td>\n",
       "    </tr>\n",
       "    <tr>\n",
       "      <th>4</th>\n",
       "      <td>Klarna</td>\n",
       "      <td>45.6</td>\n",
       "      <td>2011-12-12</td>\n",
       "      <td>Sweden</td>\n",
       "      <td>Stockholm</td>\n",
       "      <td>Fintech</td>\n",
       "      <td>Institutional Venture Partners, Sequoia Capita...</td>\n",
       "    </tr>\n",
       "  </tbody>\n",
       "</table>\n",
       "</div>"
      ],
      "text/plain": [
       "     Company  Valuation ($B) Date Joined        Country           City  \\\n",
       "0  Bytedance           140.0  2017-04-07          China        Beijing   \n",
       "1     SpaceX           125.0  2012-12-01  United States      Hawthorne   \n",
       "2      SHEIN           100.0  2018-07-03          China       Shenzhen   \n",
       "3     Stripe            95.0  2014-01-23  United States  San Francisco   \n",
       "4     Klarna            45.6  2011-12-12         Sweden      Stockholm   \n",
       "\n",
       "                          Industry  \\\n",
       "0          Artificial intelligence   \n",
       "1                            Other   \n",
       "2  E-commerce & direct-to-consumer   \n",
       "3                          Fintech   \n",
       "4                          Fintech   \n",
       "\n",
       "                                    Select Investors  \n",
       "0  Sequoia Capital China, SIG Asia Investments, S...  \n",
       "1  Founders Fund, Draper Fisher Jurvetson, Rothen...  \n",
       "2  Tiger Global Management, Sequoia Capital China...  \n",
       "3        Khosla Ventures, LowercaseCapital, capitalG  \n",
       "4  Institutional Venture Partners, Sequoia Capita...  "
      ]
     },
     "execution_count": 120,
     "metadata": {},
     "output_type": "execute_result"
    }
   ],
   "source": [
    "# Strip the $ sign from the valuation column\n",
    "df_all['Valuation ($B)'] = df_all['Valuation ($B)'].str.replace('$','')\n",
    "# Convert the column values from object to float64\n",
    "df_all['Valuation ($B)'] = pd.to_numeric(df_all['Valuation ($B)'])\n",
    "# Convert the 'Date Joined' column values into datatime64[ns] format\n",
    "df_all['Date Joined'] = pd.to_datetime(df_all['Date Joined'])\n",
    "# Sort the companies in descending order of valuation\n",
    "df_all.sort_values(['Valuation ($B)'], ascending=[0])\n",
    "df_all.drop(['Unnamed: 0'], axis=1, inplace=True)\n",
    "df_all.head()"
   ]
  },
  {
   "cell_type": "markdown",
   "metadata": {},
   "source": [
    "#### Use seaborn to plot all the unicorn companies valuation.\n",
    "Target : Visualize the vast diffrences in valuation amount (10 largest funded vs 10 smallest funded companies)"
   ]
  },
  {
   "cell_type": "code",
   "execution_count": 135,
   "metadata": {},
   "outputs": [
    {
     "data": {
      "image/png": "[encoded data removed]",
      "text/plain": [
       "<Figure size 1440x1008 with 1 Axes>"
      ]
     },
     "metadata": {
      "needs_background": "light"
     },
     "output_type": "display_data"
    }
   ],
   "source": [
    "# Compare the 10 largest and 10 smallest unicorns\n",
    "df_diff_comp_largest = df_all.nlargest(10, 'Valuation ($B)')\n",
    "df_diff_comp_smallest = df_all.nsmallest(10, 'Valuation ($B)')\n",
    "\n",
    "df_valuation_comp = df_diff_comp_largest.append(df_diff_comp_smallest, ignore_index=True)\n",
    "\n",
    "x_valuation_comp = df_valuation_comp['Valuation ($B)']\n",
    "y_valuation_comp = df_valuation_comp['Company']\n",
    "\n",
    "val_chart, ax_vc = plt.subplots(figsize=(20,14))\n",
    "sns.barplot(x=x_valuation_comp, y=y_valuation_comp, ax=ax_vc)\n",
    "plt.show()"
   ]
  },
  {
   "cell_type": "markdown",
   "metadata": {},
   "source": [
    "#### Target : Visualize the correlation between the current valuation of a company with for long the company has been in the unicorn club."
   ]
  },
  {
   "cell_type": "code",
   "execution_count": 172,
   "metadata": {},
   "outputs": [],
   "source": [
    "# Calculate the number of years the company has spent in the unicorn category. (Data compared against the year 2022, so 2022 entries will have age 0)\n",
    "df_all['Date_of_Entry'] = df_all['Date Joined'].apply(lambda x: str(x).split('-')[0])\n",
    "df_all['Age'] = df_all['Date_of_Entry'].apply(lambda x: 2022 - int(x))"
   ]
  },
  {
   "cell_type": "code",
   "execution_count": 173,
   "metadata": {},
   "outputs": [
    {
     "data": {
      "image/png": "[encoded data removed]",
      "text/plain": [
       "<Figure size 1440x1008 with 1 Axes>"
      ]
     },
     "metadata": {
      "needs_background": "light"
     },
     "output_type": "display_data"
    }
   ],
   "source": [
    "# Plot the graph between current valuation and age in unicorn club\n",
    "age_val_chart, ax_avc = plt.subplots(figsize=(20,14))\n",
    "x_age_valuation = df_all['Age']\n",
    "y_age_valuation = df_all['Valuation ($B)']\n",
    "sns.barplot(x=x_age_valuation, y=y_age_valuation, ax=ax_avc)\n",
    "plt.show()"
   ]
  }
 ],
 "metadata": {
  "interpreter": {
   "hash": "f4b53a898f0ee829dc0d56d5fd60cf8701e7dbde9491157202583818aaeabc49"
  },
  "kernelspec": {
   "display_name": "Python 3.9.6 64-bit",
   "language": "python",
   "name": "python3"
  },
  "language_info": {
   "codemirror_mode": {
    "name": "ipython",
    "version": 3
   },
   "file_extension": ".py",
   "mimetype": "text/x-python",
   "name": "python",
   "nbconvert_exporter": "python",
   "pygments_lexer": "ipython3",
   "version": "3.9.6"
  },
  "orig_nbformat": 4
 },
 "nbformat": 4,
 "nbformat_minor": 2
}
