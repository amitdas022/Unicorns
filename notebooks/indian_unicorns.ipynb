{
 "cells": [
  {
   "cell_type": "code",
   "execution_count": 71,
   "metadata": {},
   "outputs": [],
   "source": [
    "# %pip install pandas\n",
    "# %pip install numpy\n",
    "# %pip install matplotlib\n",
    "# %pip install seaborn"
   ]
  },
  {
   "cell_type": "code",
   "execution_count": 72,
   "metadata": {},
   "outputs": [],
   "source": [
    "import pandas as pd\n",
    "import numpy as np\n",
    "import matplotlib.pyplot as plt\n",
    "import seaborn as sns\n",
    "from datetime import datetime, date"
   ]
  },
  {
   "cell_type": "code",
   "execution_count": 73,
   "metadata": {},
   "outputs": [],
   "source": [
    "# Read the dataset using read_csv function\n",
    "df_all = pd.read_csv('../dataset/indian_unicorns_all_time.csv')"
   ]
  },
  {
   "cell_type": "code",
   "execution_count": 74,
   "metadata": {},
   "outputs": [
    {
     "data": {
      "text/html": [
       "<div>\n",
       "<style scoped>\n",
       "    .dataframe tbody tr th:only-of-type {\n",
       "        vertical-align: middle;\n",
       "    }\n",
       "\n",
       "    .dataframe tbody tr th {\n",
       "        vertical-align: top;\n",
       "    }\n",
       "\n",
       "    .dataframe thead th {\n",
       "        text-align: right;\n",
       "    }\n",
       "</style>\n",
       "<table border=\"1\" class=\"dataframe\">\n",
       "  <thead>\n",
       "    <tr style=\"text-align: right;\">\n",
       "      <th></th>\n",
       "      <th>Company</th>\n",
       "      <th>Sector</th>\n",
       "      <th>Entry Valuation^^ ($B)</th>\n",
       "      <th>Valuation ($B)</th>\n",
       "      <th>Date_of_Entry</th>\n",
       "      <th>Location</th>\n",
       "      <th>Select Investors</th>\n",
       "    </tr>\n",
       "  </thead>\n",
       "  <tbody>\n",
       "    <tr>\n",
       "      <th>0</th>\n",
       "      <td>Leadsquared</td>\n",
       "      <td>SaaS - CRM</td>\n",
       "      <td>1.0</td>\n",
       "      <td>1.0</td>\n",
       "      <td>2022-06-01</td>\n",
       "      <td>Bangalore</td>\n",
       "      <td>Stakeboat Capital, Gaja Capital, WestBridge</td>\n",
       "    </tr>\n",
       "    <tr>\n",
       "      <th>1</th>\n",
       "      <td>Purplle</td>\n",
       "      <td>E-Commerce - Personal Care &amp; Cosmetics</td>\n",
       "      <td>1.1</td>\n",
       "      <td>1.1</td>\n",
       "      <td>2022-06-01</td>\n",
       "      <td>Mumbai</td>\n",
       "      <td>JSW Ventures, IvyCap Ventures, Blume Ventures,...</td>\n",
       "    </tr>\n",
       "    <tr>\n",
       "      <th>2</th>\n",
       "      <td>PhysicsWallah</td>\n",
       "      <td>Edtech</td>\n",
       "      <td>1.1</td>\n",
       "      <td>1.1</td>\n",
       "      <td>2022-06-01</td>\n",
       "      <td>Noida</td>\n",
       "      <td>GSV Ventures, WestBridge</td>\n",
       "    </tr>\n",
       "    <tr>\n",
       "      <th>3</th>\n",
       "      <td>Open Financial Technologies</td>\n",
       "      <td>Fintech - Neo Bank</td>\n",
       "      <td>1.0</td>\n",
       "      <td>1.0</td>\n",
       "      <td>2022-05-01</td>\n",
       "      <td>Karnataka</td>\n",
       "      <td>3ONE4 Capital, Tiger Global, Temasek, Speedinvest</td>\n",
       "    </tr>\n",
       "    <tr>\n",
       "      <th>4</th>\n",
       "      <td>Games24x7</td>\n",
       "      <td>Gaming</td>\n",
       "      <td>2.5</td>\n",
       "      <td>2.5</td>\n",
       "      <td>2022-03-01</td>\n",
       "      <td>Mumbai</td>\n",
       "      <td>Tiger Global, Malabar Investments,  The Raine ...</td>\n",
       "    </tr>\n",
       "  </tbody>\n",
       "</table>\n",
       "</div>"
      ],
      "text/plain": [
       "                       Company                                  Sector  \\\n",
       "0                  Leadsquared                              SaaS - CRM   \n",
       "1                      Purplle  E-Commerce - Personal Care & Cosmetics   \n",
       "2                PhysicsWallah                                  Edtech   \n",
       "3  Open Financial Technologies                      Fintech - Neo Bank   \n",
       "4                    Games24x7                                  Gaming   \n",
       "\n",
       "   Entry Valuation^^ ($B)  Valuation ($B) Date_of_Entry   Location  \\\n",
       "0                     1.0             1.0    2022-06-01  Bangalore   \n",
       "1                     1.1             1.1    2022-06-01     Mumbai   \n",
       "2                     1.1             1.1    2022-06-01      Noida   \n",
       "3                     1.0             1.0    2022-05-01  Karnataka   \n",
       "4                     2.5             2.5    2022-03-01     Mumbai   \n",
       "\n",
       "                                    Select Investors  \n",
       "0        Stakeboat Capital, Gaja Capital, WestBridge  \n",
       "1  JSW Ventures, IvyCap Ventures, Blume Ventures,...  \n",
       "2                           GSV Ventures, WestBridge  \n",
       "3  3ONE4 Capital, Tiger Global, Temasek, Speedinvest  \n",
       "4  Tiger Global, Malabar Investments,  The Raine ...  "
      ]
     },
     "execution_count": 74,
     "metadata": {},
     "output_type": "execute_result"
    }
   ],
   "source": [
    "# Convert the 'Entry' column values into datatime64[ns] format\n",
    "df_all['Entry'] = pd.to_datetime(df_all['Entry'])\n",
    "\n",
    "# Rename required column\n",
    "df_all.rename(columns={'Entry':'Date_of_Entry'}, inplace=True)\n",
    "\n",
    "# Sort the companies in descending order of valuation\n",
    "df_all.sort_values(['Valuation ($B)'], ascending=[0])\n",
    "df_all.drop(['Unnamed: 0'], axis=1, inplace=True)\n",
    "\n",
    "df_all.head()"
   ]
  },
  {
   "cell_type": "markdown",
   "metadata": {},
   "source": [
    "## Categorize companies into three categories\n",
    "* **Graduated Unicorn:** A startup that has now become Publicly Listed (or) has been acquired by a Publicly Listed company.\n",
    "* **Former Unicorn:** A startup that lost its Unicorn status due to a valuation degrading event.\n",
    "* **Unicorn:** A unicorn company is any private company that is valued at $1-Billion or more and is Venture Capital funded."
   ]
  },
  {
   "cell_type": "code",
   "execution_count": 75,
   "metadata": {},
   "outputs": [],
   "source": [
    "# Categorize companies into categories\n",
    "### Categories : (graduated, former, current)\n",
    "def categorize_company(company_name):\n",
    "    dict_cat = {\n",
    "        'graduated' : '^',\n",
    "        'former' : '*'\n",
    "    }\n",
    "    if(dict_cat['graduated'] in company_name):\n",
    "        return str(\"Graduated\")\n",
    "    if(dict_cat['former'] in company_name):\n",
    "        return str(\"Former\")\n",
    "    else:\n",
    "        return str(\"Current\")"
   ]
  },
  {
   "cell_type": "code",
   "execution_count": 76,
   "metadata": {},
   "outputs": [],
   "source": [
    "# Add a new column with the current valuation status of the companies\n",
    "df_all['current_category'] = df_all['Company'].apply(lambda x : categorize_company(str(x)))"
   ]
  },
  {
   "cell_type": "code",
   "execution_count": 90,
   "metadata": {},
   "outputs": [
    {
     "data": {
      "image/png": "[encoded data removed]",
      "text/plain": [
       "<Figure size 720x720 with 1 Axes>"
      ]
     },
     "metadata": {},
     "output_type": "display_data"
    }
   ],
   "source": [
    "# Plot the number of companies in each category\n",
    "\n",
    "\n",
    "\n",
    "#Set color palette using seaborn\n",
    "color_palette = sns.color_palette(\"deep\")\n",
    "\n",
    "# Draw pie chart using matplotlib (seaborn doesn't have inbuilt function for pie chart)\n",
    "plt.subplots(figsize=(10,10))\n",
    "plt.title('Company category distribution by current valuation')\n",
    "plt.pie(df_all['current_category'].value_counts(), labels=df_all['current_category'].unique())\n",
    "plt.show()"
   ]
  },
  {
   "cell_type": "code",
   "execution_count": null,
   "metadata": {},
   "outputs": [],
   "source": []
  }
 ],
 "metadata": {
  "interpreter": {
   "hash": "f4b53a898f0ee829dc0d56d5fd60cf8701e7dbde9491157202583818aaeabc49"
  },
  "kernelspec": {
   "display_name": "Python 3.9.6 64-bit",
   "language": "python",
   "name": "python3"
  },
  "language_info": {
   "codemirror_mode": {
    "name": "ipython",
    "version": 3
   },
   "file_extension": ".py",
   "mimetype": "text/x-python",
   "name": "python",
   "nbconvert_exporter": "python",
   "pygments_lexer": "ipython3",
   "version": "3.9.6"
  },
  "orig_nbformat": 4
 },
 "nbformat": 4,
 "nbformat_minor": 2
}
